{
 "cells": [
  {
   "cell_type": "markdown",
   "id": "77cf81c4",
   "metadata": {},
   "source": [
    "# 📝 Exercise M7.03\n",
    "\n",
    "As with the classification metrics exercise, we will evaluate the regression\n",
    "metrics within a cross-validation framework to get familiar with the syntax.\n",
    "\n",
    "We will use the Ames house prices dataset."
   ]
  },
  {
   "cell_type": "code",
   "execution_count": 1,
   "id": "bd06d731",
   "metadata": {},
   "outputs": [],
   "source": [
    "import pandas as pd\n",
    "import numpy as np\n",
    "\n",
    "ames_housing = pd.read_csv(\"../datasets/house_prices.csv\")\n",
    "data = ames_housing.drop(columns=\"SalePrice\")\n",
    "target = ames_housing[\"SalePrice\"]\n",
    "data = data.select_dtypes(np.number)\n",
    "target /= 1000"
   ]
  },
  {
   "cell_type": "markdown",
   "id": "c7e81dda",
   "metadata": {
    "lines_to_next_cell": 2
   },
   "source": [
    "<div class=\"admonition note alert alert-info\">\n",
    "<p class=\"first admonition-title\" style=\"font-weight: bold;\">Note</p>\n",
    "<p class=\"last\">If you want a deeper overview regarding this dataset, you can refer to the\n",
    "Appendix - Datasets description section at the end of this MOOC.</p>\n",
    "</div>"
   ]
  },
  {
   "cell_type": "markdown",
   "id": "1a65653f",
   "metadata": {},
   "source": [
    "The first step will be to create a linear regression model."
   ]
  },
  {
   "cell_type": "code",
   "execution_count": 2,
   "id": "4efeceea",
   "metadata": {},
   "outputs": [],
   "source": [
    "# Write your code here.\n",
    "from sklearn.linear_model import LinearRegression\n",
    "\n",
    "linear_model = LinearRegression()\n"
   ]
  },
  {
   "cell_type": "markdown",
   "id": "6f46bcf5",
   "metadata": {},
   "source": [
    "Then, use the `cross_val_score` to estimate the generalization performance of\n",
    "the model. Use a `KFold` cross-validation with 10 folds. Make the use of the\n",
    "$R^2$ score explicit by assigning the parameter `scoring` (even though it is\n",
    "the default score)."
   ]
  },
  {
   "cell_type": "code",
   "execution_count": 6,
   "id": "ab5ff82c",
   "metadata": {},
   "outputs": [
    {
     "name": "stdout",
     "output_type": "stream",
     "text": [
      "R2 score: 0.794 ± 0.103\n"
     ]
    }
   ],
   "source": [
    "# Write your code here.\n",
    "from sklearn.model_selection import cross_val_score, KFold\n",
    "cv = KFold(n_splits=10)\n",
    "cv_scores = cross_val_score(\n",
    "    linear_model, data, target,\n",
    "    scoring=\"r2\",\n",
    "    cv=cv\n",
    ")\n",
    "print(f\"R2 score: {cv_scores.mean():.03f} ± {cv_scores.std():.03f}\")"
   ]
  },
  {
   "cell_type": "markdown",
   "id": "9936ba20",
   "metadata": {},
   "source": [
    "Then, instead of using the $R^2$ score, use the mean absolute error. You need\n",
    "to refer to the documentation for the `scoring` parameter."
   ]
  },
  {
   "cell_type": "code",
   "execution_count": 8,
   "id": "26ecda9d",
   "metadata": {},
   "outputs": [
    {
     "name": "stdout",
     "output_type": "stream",
     "text": [
      "MAE score: 21.892 ± 2.225\n"
     ]
    }
   ],
   "source": [
    "# Write your code here.\n",
    "mae_scores = cross_val_score(\n",
    "    linear_model, data, target,\n",
    "    scoring=\"neg_mean_absolute_error\",\n",
    "    cv=cv\n",
    ")\n",
    "print(f\"MAE score: {-mae_scores.mean():.03f} ± {mae_scores.std():.03f}\")"
   ]
  },
  {
   "cell_type": "markdown",
   "id": "4ebfbf34",
   "metadata": {},
   "source": [
    "Finally, use the `cross_validate` function and compute multiple scores/errors\n",
    "at once by passing a list of scorers to the `scoring` parameter. You can\n",
    "compute the $R^2$ score and the mean absolute error for instance."
   ]
  },
  {
   "cell_type": "code",
   "execution_count": 14,
   "id": "7af84281",
   "metadata": {},
   "outputs": [
    {
     "name": "stdout",
     "output_type": "stream",
     "text": [
      "R2 score: 0.794 ± 0.103\n",
      "MAE score: 21.892 ± 2.225\n"
     ]
    }
   ],
   "source": [
    "# Write your code here.\n",
    "from sklearn.model_selection import cross_validate\n",
    "multi_scores = cross_validate(\n",
    "    linear_model, data, target,\n",
    "    scoring=[\"r2\", \"neg_mean_absolute_error\"],\n",
    "    cv=cv\n",
    ")\n",
    "multi_scores\n",
    "print(f\"R2 score: {multi_scores['test_r2'].mean():.03f} ± {multi_scores['test_r2'].std():.03f}\")\n",
    "print(f\"MAE score: {-multi_scores['test_neg_mean_absolute_error'].mean():.03f} ± {multi_scores['test_neg_mean_absolute_error'].std():.03f}\")"
   ]
  },
  {
   "cell_type": "code",
   "execution_count": null,
   "id": "72805d7d",
   "metadata": {},
   "outputs": [],
   "source": []
  }
 ],
 "metadata": {
  "jupytext": {
   "main_language": "python"
  },
  "kernelspec": {
   "display_name": "Python 3 (ipykernel)",
   "language": "python",
   "name": "python3"
  },
  "language_info": {
   "codemirror_mode": {
    "name": "ipython",
    "version": 3
   },
   "file_extension": ".py",
   "mimetype": "text/x-python",
   "name": "python",
   "nbconvert_exporter": "python",
   "pygments_lexer": "ipython3",
   "version": "3.11.4"
  },
  "nbreset": "https://raw.githubusercontent.com/INRIA/scikit-learn-mooc/main/notebooks/metrics_ex_02.ipynb"
 },
 "nbformat": 4,
 "nbformat_minor": 5
}
