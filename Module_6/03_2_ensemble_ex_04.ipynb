{
 "cells": [
  {
   "cell_type": "markdown",
   "id": "b496c953",
   "metadata": {},
   "source": [
    "# 📝 Exercise M6.04\n",
    "\n",
    "The aim of the exercise is to get familiar with the histogram\n",
    "gradient-boosting in scikit-learn. Besides, we will use this model within a\n",
    "cross-validation framework in order to inspect internal parameters found via\n",
    "grid-search.\n",
    "\n",
    "We will use the California housing dataset."
   ]
  },
  {
   "cell_type": "code",
   "execution_count": 1,
   "id": "8195c33f",
   "metadata": {},
   "outputs": [],
   "source": [
    "from sklearn.datasets import fetch_california_housing\n",
    "\n",
    "data, target = fetch_california_housing(return_X_y=True, as_frame=True)\n",
    "target *= 100  # rescale the target in k$"
   ]
  },
  {
   "cell_type": "markdown",
   "id": "5ecaf070",
   "metadata": {},
   "source": [
    "First, create a histogram gradient boosting regressor. You can set the trees\n",
    "number to be large, and configure the model to use early-stopping."
   ]
  },
  {
   "cell_type": "code",
   "execution_count": 3,
   "id": "77ed5bf1",
   "metadata": {},
   "outputs": [
    {
     "data": {
      "text/plain": [
       "{'categorical_features': None,\n",
       " 'early_stopping': True,\n",
       " 'interaction_cst': None,\n",
       " 'l2_regularization': 0.0,\n",
       " 'learning_rate': 0.1,\n",
       " 'loss': 'squared_error',\n",
       " 'max_bins': 255,\n",
       " 'max_depth': None,\n",
       " 'max_iter': 300,\n",
       " 'max_leaf_nodes': 31,\n",
       " 'min_samples_leaf': 20,\n",
       " 'monotonic_cst': None,\n",
       " 'n_iter_no_change': 10,\n",
       " 'quantile': None,\n",
       " 'random_state': 0,\n",
       " 'scoring': 'loss',\n",
       " 'tol': 1e-07,\n",
       " 'validation_fraction': 0.1,\n",
       " 'verbose': 0,\n",
       " 'warm_start': False}"
      ]
     },
     "execution_count": 3,
     "metadata": {},
     "output_type": "execute_result"
    }
   ],
   "source": [
    "# Write your code here.\n",
    "from sklearn.ensemble import HistGradientBoostingRegressor\n",
    "\n",
    "hist_gbr = HistGradientBoostingRegressor(\n",
    "    max_iter=300,\n",
    "    early_stopping=True,\n",
    "    random_state=0\n",
    ") \n",
    "hist_gbr.get_params()"
   ]
  },
  {
   "cell_type": "markdown",
   "id": "6dead099",
   "metadata": {},
   "source": [
    "We will use a grid-search to find some optimal parameter for this model. In\n",
    "this grid-search, you should search for the following parameters:\n",
    "\n",
    "* `max_depth: [3, 8]`;\n",
    "* `max_leaf_nodes: [15, 31]`;\n",
    "* `learning_rate: [0.1, 1]`.\n",
    "\n",
    "Feel free to explore the space with additional values. Create the grid-search\n",
    "providing the previous gradient boosting instance as the model."
   ]
  },
  {
   "cell_type": "code",
   "execution_count": 9,
   "id": "acbc49c7",
   "metadata": {},
   "outputs": [],
   "source": [
    "# Write your code here.\n",
    "from sklearn.model_selection import GridSearchCV\n",
    "\n",
    "param_grid = {\n",
    "    'max_depth': [3, 8],\n",
    "    'max_leaf_nodes': [15, 31],\n",
    "    'learning_rate': [0.1, 1]\n",
    "}\n",
    "\n",
    "grid_cv = GridSearchCV(\n",
    "    estimator=hist_gbr,\n",
    "    param_grid=param_grid,\n",
    "    #scoring=\"neg_mean_absolute_error\",\n",
    "    n_jobs=2,\n",
    "    #cv=5\n",
    ")"
   ]
  },
  {
   "cell_type": "markdown",
   "id": "ad810448",
   "metadata": {},
   "source": [
    "Finally, we will run our experiment through cross-validation. In this regard,\n",
    "define a 5-fold cross-validation. Besides, be sure to shuffle the data.\n",
    "Subsequently, use the function `sklearn.model_selection.cross_validate` to run\n",
    "the cross-validation. You should also set `return_estimator=True`, so that we\n",
    "can investigate the inner model trained via cross-validation."
   ]
  },
  {
   "cell_type": "code",
   "execution_count": 10,
   "id": "cab29167",
   "metadata": {},
   "outputs": [],
   "source": [
    "# Write your code here.\n",
    "from sklearn.model_selection import cross_validate, KFold\n",
    "\n",
    "cv = KFold(\n",
    "    n_splits=5,\n",
    "    shuffle=True,\n",
    "    random_state=0\n",
    ")\n",
    "\n",
    "cv_results = cross_validate(\n",
    "    estimator=grid_cv,\n",
    "    X=data,\n",
    "    y=target,\n",
    "    cv=cv,\n",
    "    return_estimator=True\n",
    ")"
   ]
  },
  {
   "cell_type": "markdown",
   "id": "c6eca888",
   "metadata": {},
   "source": [
    "Now that we got the cross-validation results, print out the mean and standard\n",
    "deviation score."
   ]
  },
  {
   "cell_type": "code",
   "execution_count": 11,
   "id": "83d5f642",
   "metadata": {},
   "outputs": [
    {
     "name": "stdout",
     "output_type": "stream",
     "text": [
      "R2 Score with cross validation:-0.837 ± 0.009\n"
     ]
    }
   ],
   "source": [
    "# Write your code here.\n",
    "print(\n",
    "    \"R2 Score with cross validation:\"\n",
    "    f\"{-cv_results['test_score'].mean():.03f} ± \"\n",
    "    f\"{cv_results['test_score'].std():.03f}\"\n",
    ")"
   ]
  },
  {
   "cell_type": "markdown",
   "id": "d483c969",
   "metadata": {},
   "source": [
    "Then inspect the `estimator` entry of the results and check the best\n",
    "parameters values. Besides, check the number of trees used by the model."
   ]
  },
  {
   "cell_type": "code",
   "execution_count": 13,
   "id": "7f3afe4f",
   "metadata": {},
   "outputs": [
    {
     "name": "stdout",
     "output_type": "stream",
     "text": [
      "Best parameters: {'learning_rate': 0.1, 'max_depth': 8, 'max_leaf_nodes': 15}\n",
      "Number of trees: 300\n",
      "Best parameters: {'learning_rate': 0.1, 'max_depth': 8, 'max_leaf_nodes': 15}\n",
      "Number of trees: 300\n",
      "Best parameters: {'learning_rate': 0.1, 'max_depth': 3, 'max_leaf_nodes': 15}\n",
      "Number of trees: 300\n",
      "Best parameters: {'learning_rate': 0.1, 'max_depth': 8, 'max_leaf_nodes': 15}\n",
      "Number of trees: 290\n",
      "Best parameters: {'learning_rate': 0.1, 'max_depth': 8, 'max_leaf_nodes': 15}\n",
      "Number of trees: 300\n"
     ]
    }
   ],
   "source": [
    "# Write your code here.\n",
    "for estimator in cv_results['estimator']:\n",
    "    print(f\"Best parameters: {estimator.best_params_}\")\n",
    "    print(f\"Number of trees: {estimator.best_estimator_.n_iter_}\")\n",
    "    \n",
    "# ==> should increase max_iter to 1000"
   ]
  },
  {
   "cell_type": "markdown",
   "id": "001747d6",
   "metadata": {},
   "source": [
    "Inspect the results of the inner CV for each estimator of the outer CV.\n",
    "Aggregate the mean test score for each parameter combination and make a box\n",
    "plot of these scores."
   ]
  },
  {
   "cell_type": "code",
   "execution_count": 15,
   "id": "002c2eeb",
   "metadata": {},
   "outputs": [
    {
     "data": {
      "text/html": [
       "<div>\n",
       "<style scoped>\n",
       "    .dataframe tbody tr th:only-of-type {\n",
       "        vertical-align: middle;\n",
       "    }\n",
       "\n",
       "    .dataframe tbody tr th {\n",
       "        vertical-align: top;\n",
       "    }\n",
       "\n",
       "    .dataframe thead tr th {\n",
       "        text-align: left;\n",
       "    }\n",
       "</style>\n",
       "<table border=\"1\" class=\"dataframe\">\n",
       "  <thead>\n",
       "    <tr>\n",
       "      <th>param_max_depth</th>\n",
       "      <th colspan=\"2\" halign=\"left\">3</th>\n",
       "      <th colspan=\"2\" halign=\"left\">8</th>\n",
       "      <th colspan=\"2\" halign=\"left\">3</th>\n",
       "      <th colspan=\"2\" halign=\"left\">8</th>\n",
       "    </tr>\n",
       "    <tr>\n",
       "      <th>param_max_leaf_nodes</th>\n",
       "      <th>15</th>\n",
       "      <th>31</th>\n",
       "      <th>15</th>\n",
       "      <th>31</th>\n",
       "      <th>15</th>\n",
       "      <th>31</th>\n",
       "      <th>15</th>\n",
       "      <th>31</th>\n",
       "    </tr>\n",
       "    <tr>\n",
       "      <th>param_learning_rate</th>\n",
       "      <th>0.1</th>\n",
       "      <th>0.1</th>\n",
       "      <th>0.1</th>\n",
       "      <th>0.1</th>\n",
       "      <th>1</th>\n",
       "      <th>1</th>\n",
       "      <th>1</th>\n",
       "      <th>1</th>\n",
       "    </tr>\n",
       "  </thead>\n",
       "  <tbody>\n",
       "    <tr>\n",
       "      <th>CV 0</th>\n",
       "      <td>0.694474</td>\n",
       "      <td>0.694474</td>\n",
       "      <td>0.695044</td>\n",
       "      <td>0.689567</td>\n",
       "      <td>0.594949</td>\n",
       "      <td>0.594949</td>\n",
       "      <td>0.594929</td>\n",
       "      <td>0.542924</td>\n",
       "    </tr>\n",
       "    <tr>\n",
       "      <th>CV 1</th>\n",
       "      <td>0.691348</td>\n",
       "      <td>0.691348</td>\n",
       "      <td>0.709519</td>\n",
       "      <td>0.692818</td>\n",
       "      <td>0.635830</td>\n",
       "      <td>0.635830</td>\n",
       "      <td>0.574798</td>\n",
       "      <td>0.548045</td>\n",
       "    </tr>\n",
       "    <tr>\n",
       "      <th>CV 2</th>\n",
       "      <td>0.699943</td>\n",
       "      <td>0.699943</td>\n",
       "      <td>0.699488</td>\n",
       "      <td>0.689641</td>\n",
       "      <td>0.609780</td>\n",
       "      <td>0.609780</td>\n",
       "      <td>0.587401</td>\n",
       "      <td>0.557469</td>\n",
       "    </tr>\n",
       "    <tr>\n",
       "      <th>CV 3</th>\n",
       "      <td>0.673540</td>\n",
       "      <td>0.673540</td>\n",
       "      <td>0.686270</td>\n",
       "      <td>0.683081</td>\n",
       "      <td>0.601173</td>\n",
       "      <td>0.601173</td>\n",
       "      <td>0.599924</td>\n",
       "      <td>0.537000</td>\n",
       "    </tr>\n",
       "    <tr>\n",
       "      <th>CV 4</th>\n",
       "      <td>0.679913</td>\n",
       "      <td>0.679913</td>\n",
       "      <td>0.696454</td>\n",
       "      <td>0.690846</td>\n",
       "      <td>0.621719</td>\n",
       "      <td>0.621719</td>\n",
       "      <td>0.586566</td>\n",
       "      <td>0.559147</td>\n",
       "    </tr>\n",
       "  </tbody>\n",
       "</table>\n",
       "</div>"
      ],
      "text/plain": [
       "param_max_depth              3                   8                   3  \\\n",
       "param_max_leaf_nodes        15        31        15        31        15   \n",
       "param_learning_rate        0.1       0.1       0.1       0.1         1   \n",
       "CV 0                  0.694474  0.694474  0.695044  0.689567  0.594949   \n",
       "CV 1                  0.691348  0.691348  0.709519  0.692818  0.635830   \n",
       "CV 2                  0.699943  0.699943  0.699488  0.689641  0.609780   \n",
       "CV 3                  0.673540  0.673540  0.686270  0.683081  0.601173   \n",
       "CV 4                  0.679913  0.679913  0.696454  0.690846  0.621719   \n",
       "\n",
       "param_max_depth                        8            \n",
       "param_max_leaf_nodes        31        15        31  \n",
       "param_learning_rate          1         1         1  \n",
       "CV 0                  0.594949  0.594929  0.542924  \n",
       "CV 1                  0.635830  0.574798  0.548045  \n",
       "CV 2                  0.609780  0.587401  0.557469  \n",
       "CV 3                  0.601173  0.599924  0.537000  \n",
       "CV 4                  0.621719  0.586566  0.559147  "
      ]
     },
     "execution_count": 15,
     "metadata": {},
     "output_type": "execute_result"
    }
   ],
   "source": [
    "# Write your code here.\n",
    "import pandas as pd\n",
    "\n",
    "param_columns = [f\"param_{name}\" for name in param_grid.keys()]\n",
    "columns = param_columns + [\"mean_test_score\"]\n",
    "\n",
    "inner_cv_results = []\n",
    "for cv_idx, estimator in enumerate(cv_results[\"estimator\"]):\n",
    "    search_cv_results = pd.DataFrame(estimator.cv_results_)\n",
    "    search_cv_results = search_cv_results[columns].set_index(param_columns)\n",
    "    search_cv_results = search_cv_results.rename(\n",
    "        columns={\"mean_test_score\": f\"CV {cv_idx}\"}\n",
    "    )\n",
    "    inner_cv_results.append(search_cv_results)\n",
    "inner_cv_results = pd.concat(inner_cv_results, axis=1).T\n",
    "\n",
    "inner_cv_results"
   ]
  },
  {
   "cell_type": "code",
   "execution_count": 16,
   "id": "f403563c",
   "metadata": {},
   "outputs": [
    {
     "data": {
      "image/png": "[encoded data removed]",
      "text/plain": [
       "<Figure size 640x480 with 1 Axes>"
      ]
     },
     "metadata": {},
     "output_type": "display_data"
    }
   ],
   "source": [
    "import matplotlib.pyplot as plt\n",
    "\n",
    "color = {\"whiskers\": \"black\", \"medians\": \"black\", \"caps\": \"black\"}\n",
    "inner_cv_results.plot.box(vert=False, color=color)\n",
    "plt.xlabel(\"R2 score\")\n",
    "plt.ylabel(\"Parameters\")\n",
    "_ = plt.title(\n",
    "    \"Inner CV results with parameters\\n\"\n",
    "    \"(max_depth, max_leaf_nodes, learning_rate)\"\n",
    ")"
   ]
  },
  {
   "cell_type": "code",
   "execution_count": null,
   "id": "a7744755",
   "metadata": {},
   "outputs": [],
   "source": []
  }
 ],
 "metadata": {
  "jupytext": {
   "main_language": "python"
  },
  "kernelspec": {
   "display_name": "Python 3 (ipykernel)",
   "language": "python",
   "name": "python3"
  },
  "language_info": {
   "codemirror_mode": {
    "name": "ipython",
    "version": 3
   },
   "file_extension": ".py",
   "mimetype": "text/x-python",
   "name": "python",
   "nbconvert_exporter": "python",
   "pygments_lexer": "ipython3",
   "version": "3.11.4"
  },
  "nbreset": "https://raw.githubusercontent.com/INRIA/scikit-learn-mooc/main/notebooks/ensemble_ex_04.ipynb"
 },
 "nbformat": 4,
 "nbformat_minor": 5
}
