{
 "cells": [
  {
   "cell_type": "markdown",
   "id": "92a71de3",
   "metadata": {},
   "source": [
    "# 📝 Exercise M4.02\n",
    "\n",
    "In the previous notebook, we showed that we can add new features based on the\n",
    "original feature `x` to make the model more expressive, for instance `x ** 2` or\n",
    "`x ** 3`. In that case we only used a single feature in `data`.\n",
    "\n",
    "The aim of this notebook is to train a linear regression algorithm on a\n",
    "dataset with more than a single feature. In such a \"multi-dimensional\" feature\n",
    "space we can derive new features of the form `x1 * x2`, `x2 * x3`, etc.\n",
    "Products of features are usually called \"non-linear\" or \"multiplicative\"\n",
    "interactions between features.\n",
    "\n",
    "Feature engineering can be an important step of a model pipeline as long as\n",
    "the new features are expected to be predictive. For instance, think of a\n",
    "classification model to decide if a patient has risk of developing a heart\n",
    "disease. This would depend on the patient's Body Mass Index which is defined\n",
    "as `weight / height ** 2`.\n",
    "\n",
    "We load the dataset penguins dataset. We first use a set of 3 numerical\n",
    "features to predict the target, i.e. the body mass of the penguin."
   ]
  },
  {
   "cell_type": "markdown",
   "id": "c962fe83",
   "metadata": {},
   "source": [
    "<div class=\"admonition note alert alert-info\">\n",
    "<p class=\"first admonition-title\" style=\"font-weight: bold;\">Note</p>\n",
    "<p class=\"last\">If you want a deeper overview regarding this dataset, you can refer to the\n",
    "Appendix - Datasets description section at the end of this MOOC.</p>\n",
    "</div>"
   ]
  },
  {
   "cell_type": "code",
   "execution_count": 1,
   "id": "30a346ab",
   "metadata": {},
   "outputs": [
    {
     "data": {
      "text/html": [
       "<div>\n",
       "<style scoped>\n",
       "    .dataframe tbody tr th:only-of-type {\n",
       "        vertical-align: middle;\n",
       "    }\n",
       "\n",
       "    .dataframe tbody tr th {\n",
       "        vertical-align: top;\n",
       "    }\n",
       "\n",
       "    .dataframe thead th {\n",
       "        text-align: right;\n",
       "    }\n",
       "</style>\n",
       "<table border=\"1\" class=\"dataframe\">\n",
       "  <thead>\n",
       "    <tr style=\"text-align: right;\">\n",
       "      <th></th>\n",
       "      <th>Flipper Length (mm)</th>\n",
       "      <th>Culmen Length (mm)</th>\n",
       "      <th>Culmen Depth (mm)</th>\n",
       "    </tr>\n",
       "  </thead>\n",
       "  <tbody>\n",
       "    <tr>\n",
       "      <th>0</th>\n",
       "      <td>181.0</td>\n",
       "      <td>39.1</td>\n",
       "      <td>18.7</td>\n",
       "    </tr>\n",
       "    <tr>\n",
       "      <th>1</th>\n",
       "      <td>186.0</td>\n",
       "      <td>39.5</td>\n",
       "      <td>17.4</td>\n",
       "    </tr>\n",
       "    <tr>\n",
       "      <th>2</th>\n",
       "      <td>195.0</td>\n",
       "      <td>40.3</td>\n",
       "      <td>18.0</td>\n",
       "    </tr>\n",
       "    <tr>\n",
       "      <th>4</th>\n",
       "      <td>193.0</td>\n",
       "      <td>36.7</td>\n",
       "      <td>19.3</td>\n",
       "    </tr>\n",
       "    <tr>\n",
       "      <th>5</th>\n",
       "      <td>190.0</td>\n",
       "      <td>39.3</td>\n",
       "      <td>20.6</td>\n",
       "    </tr>\n",
       "  </tbody>\n",
       "</table>\n",
       "</div>"
      ],
      "text/plain": [
       "   Flipper Length (mm)  Culmen Length (mm)  Culmen Depth (mm)\n",
       "0                181.0                39.1               18.7\n",
       "1                186.0                39.5               17.4\n",
       "2                195.0                40.3               18.0\n",
       "4                193.0                36.7               19.3\n",
       "5                190.0                39.3               20.6"
      ]
     },
     "execution_count": 1,
     "metadata": {},
     "output_type": "execute_result"
    }
   ],
   "source": [
    "import pandas as pd\n",
    "\n",
    "penguins = pd.read_csv(\"../datasets/penguins.csv\")\n",
    "\n",
    "columns = [\"Flipper Length (mm)\", \"Culmen Length (mm)\", \"Culmen Depth (mm)\"]\n",
    "target_name = \"Body Mass (g)\"\n",
    "\n",
    "# Remove lines with missing values for the columns of interest\n",
    "penguins_non_missing = penguins[columns + [target_name]].dropna()\n",
    "\n",
    "data = penguins_non_missing[columns]\n",
    "target = penguins_non_missing[target_name]\n",
    "data.head()"
   ]
  },
  {
   "cell_type": "markdown",
   "id": "06694bcc",
   "metadata": {},
   "source": [
    "Now it is your turn to train a linear regression model on this dataset. First,\n",
    "create a linear regression model."
   ]
  },
  {
   "cell_type": "code",
   "execution_count": 3,
   "id": "a429e568",
   "metadata": {},
   "outputs": [],
   "source": [
    "# Write your code here.\n",
    "from sklearn.linear_model import LinearRegression\n",
    "\n",
    "model = LinearRegression()\n"
   ]
  },
  {
   "cell_type": "markdown",
   "id": "4b686c48",
   "metadata": {},
   "source": [
    "Execute a cross-validation with 10 folds and use the mean absolute error (MAE)\n",
    "as metric."
   ]
  },
  {
   "cell_type": "code",
   "execution_count": 4,
   "id": "c62b3ff8",
   "metadata": {},
   "outputs": [],
   "source": [
    "# Write your code here.\n",
    "from sklearn.model_selection import cross_validate\n",
    "from sklearn.metrics import mean_absolute_error \n",
    "\n",
    "cv_results = cross_validate(\n",
    "    model,\n",
    "    data,\n",
    "    target,\n",
    "    cv=10,\n",
    "    scoring='neg_mean_absolute_error'\n",
    ")\n",
    "\n"
   ]
  },
  {
   "cell_type": "markdown",
   "id": "75d37f26",
   "metadata": {},
   "source": [
    "Compute the mean and std of the MAE in grams (g). Remember you have to revert\n",
    "the sign introduced when metrics start with `neg_`, such as in\n",
    "`\"neg_mean_absolute_error\"`."
   ]
  },
  {
   "cell_type": "code",
   "execution_count": 5,
   "id": "b97b08cf",
   "metadata": {},
   "outputs": [
    {
     "name": "stdout",
     "output_type": "stream",
     "text": [
      "Mean error: 337.07133738443895\n",
      "Std = 89.45915839307133\n"
     ]
    }
   ],
   "source": [
    "# Write your code here.\n",
    "cv_results = pd.DataFrame(cv_results)\n",
    "cv_results['test_score'] = -cv_results['test_score']\n",
    "print(\n",
    "    f\"Mean error: {cv_results['test_score'].mean()}\\n\"\n",
    "    f\"Std = {cv_results['test_score'].std()}\"\n",
    ")"
   ]
  },
  {
   "cell_type": "markdown",
   "id": "40628248",
   "metadata": {},
   "source": [
    "Now create a pipeline using `make_pipeline` consisting of a\n",
    "`PolynomialFeatures` and a linear regression. Set `degree=2` and\n",
    "`interaction_only=True` to the feature engineering step. Remember not to\n",
    "include a \"bias\" feature (that is a constant-valued feature) to avoid\n",
    "introducing a redundancy with the intercept of the subsequent linear\n",
    "regression model.\n",
    "\n",
    "You may want to use the `.set_output(transform=\"pandas\")` method of the\n",
    "pipeline to answer the next question."
   ]
  },
  {
   "cell_type": "code",
   "execution_count": 25,
   "id": "57f5f91c",
   "metadata": {},
   "outputs": [],
   "source": [
    "# Write your code here.\n",
    "from sklearn.pipeline import make_pipeline\n",
    "from sklearn.preprocessing import PolynomialFeatures\n",
    "\n",
    "model = make_pipeline(\n",
    "    PolynomialFeatures(\n",
    "        degree=2, \n",
    "        interaction_only=True, \n",
    "        include_bias=False\n",
    "    ).set_output(transform='pandas'),\n",
    "    LinearRegression()\n",
    ")\n"
   ]
  },
  {
   "cell_type": "markdown",
   "id": "c8e05aa2",
   "metadata": {},
   "source": [
    "Transform the first 5 rows of the dataset and look at the column names. How\n",
    "many features are generated at the output of the `PolynomialFeatures` step in\n",
    "the previous pipeline?"
   ]
  },
  {
   "cell_type": "code",
   "execution_count": 27,
   "id": "342450d3",
   "metadata": {},
   "outputs": [
    {
     "name": "stdout",
     "output_type": "stream",
     "text": [
      "Number of features generated at the PolynomialFeatures step: 3\n"
     ]
    },
    {
     "data": {
      "text/html": [
       "<div>\n",
       "<style scoped>\n",
       "    .dataframe tbody tr th:only-of-type {\n",
       "        vertical-align: middle;\n",
       "    }\n",
       "\n",
       "    .dataframe tbody tr th {\n",
       "        vertical-align: top;\n",
       "    }\n",
       "\n",
       "    .dataframe thead th {\n",
       "        text-align: right;\n",
       "    }\n",
       "</style>\n",
       "<table border=\"1\" class=\"dataframe\">\n",
       "  <thead>\n",
       "    <tr style=\"text-align: right;\">\n",
       "      <th></th>\n",
       "      <th>Flipper Length (mm)</th>\n",
       "      <th>Culmen Length (mm)</th>\n",
       "      <th>Culmen Depth (mm)</th>\n",
       "      <th>Flipper Length (mm) Culmen Length (mm)</th>\n",
       "      <th>Flipper Length (mm) Culmen Depth (mm)</th>\n",
       "      <th>Culmen Length (mm) Culmen Depth (mm)</th>\n",
       "    </tr>\n",
       "  </thead>\n",
       "  <tbody>\n",
       "    <tr>\n",
       "      <th>0</th>\n",
       "      <td>181.0</td>\n",
       "      <td>39.1</td>\n",
       "      <td>18.7</td>\n",
       "      <td>7077.1</td>\n",
       "      <td>3384.7</td>\n",
       "      <td>731.17</td>\n",
       "    </tr>\n",
       "    <tr>\n",
       "      <th>1</th>\n",
       "      <td>186.0</td>\n",
       "      <td>39.5</td>\n",
       "      <td>17.4</td>\n",
       "      <td>7347.0</td>\n",
       "      <td>3236.4</td>\n",
       "      <td>687.30</td>\n",
       "    </tr>\n",
       "    <tr>\n",
       "      <th>2</th>\n",
       "      <td>195.0</td>\n",
       "      <td>40.3</td>\n",
       "      <td>18.0</td>\n",
       "      <td>7858.5</td>\n",
       "      <td>3510.0</td>\n",
       "      <td>725.40</td>\n",
       "    </tr>\n",
       "    <tr>\n",
       "      <th>4</th>\n",
       "      <td>193.0</td>\n",
       "      <td>36.7</td>\n",
       "      <td>19.3</td>\n",
       "      <td>7083.1</td>\n",
       "      <td>3724.9</td>\n",
       "      <td>708.31</td>\n",
       "    </tr>\n",
       "    <tr>\n",
       "      <th>5</th>\n",
       "      <td>190.0</td>\n",
       "      <td>39.3</td>\n",
       "      <td>20.6</td>\n",
       "      <td>7467.0</td>\n",
       "      <td>3914.0</td>\n",
       "      <td>809.58</td>\n",
       "    </tr>\n",
       "  </tbody>\n",
       "</table>\n",
       "</div>"
      ],
      "text/plain": [
       "   Flipper Length (mm)  Culmen Length (mm)  Culmen Depth (mm)  \\\n",
       "0                181.0                39.1               18.7   \n",
       "1                186.0                39.5               17.4   \n",
       "2                195.0                40.3               18.0   \n",
       "4                193.0                36.7               19.3   \n",
       "5                190.0                39.3               20.6   \n",
       "\n",
       "   Flipper Length (mm) Culmen Length (mm)  \\\n",
       "0                                  7077.1   \n",
       "1                                  7347.0   \n",
       "2                                  7858.5   \n",
       "4                                  7083.1   \n",
       "5                                  7467.0   \n",
       "\n",
       "   Flipper Length (mm) Culmen Depth (mm)  Culmen Length (mm) Culmen Depth (mm)  \n",
       "0                                 3384.7                                731.17  \n",
       "1                                 3236.4                                687.30  \n",
       "2                                 3510.0                                725.40  \n",
       "4                                 3724.9                                708.31  \n",
       "5                                 3914.0                                809.58  "
      ]
     },
     "execution_count": 27,
     "metadata": {},
     "output_type": "execute_result"
    }
   ],
   "source": [
    "# Write your code here.\n",
    "tmp = model['polynomialfeatures'].fit_transform(data.head(5))\n",
    "print(f\"Number of features generated at the PolynomialFeatures step: {tmp.shape[1]-data.shape[1]}\")\n",
    "tmp.head(5)"
   ]
  },
  {
   "cell_type": "markdown",
   "id": "58a17473",
   "metadata": {},
   "source": [
    "Check that the values for the new interaction features are correct for a few\n",
    "of them."
   ]
  },
  {
   "cell_type": "code",
   "execution_count": 24,
   "id": "e10af00d",
   "metadata": {},
   "outputs": [
    {
     "name": "stdout",
     "output_type": "stream",
     "text": [
      "True\n",
      "True\n",
      "True\n"
     ]
    }
   ],
   "source": [
    "# Write your code here.\n",
    "test = tmp['Flipper Length (mm)']*tmp['Culmen Length (mm)'] - tmp['Flipper Length (mm) Culmen Length (mm)']\n",
    "print((test==0).all())\n",
    "\n",
    "test = tmp['Flipper Length (mm)']*tmp['Culmen Depth (mm)'] - tmp['Flipper Length (mm) Culmen Depth (mm)']\n",
    "print((test==0).all())\n",
    "\n",
    "test = tmp['Culmen Length (mm)']*tmp['Culmen Depth (mm)'] - tmp['Culmen Length (mm) Culmen Depth (mm)']\n",
    "print((test==0).all())\n"
   ]
  },
  {
   "cell_type": "markdown",
   "id": "8711d9b1",
   "metadata": {},
   "source": [
    "Use the same cross-validation strategy as done previously to estimate the mean\n",
    "and std of the MAE in grams (g) for such a pipeline. Compare with the results\n",
    "without feature engineering."
   ]
  },
  {
   "cell_type": "code",
   "execution_count": 29,
   "id": "43c39cdb",
   "metadata": {},
   "outputs": [
    {
     "name": "stdout",
     "output_type": "stream",
     "text": [
      "Mean error: 301.789552284324\n",
      "Std = 46.73847205967983\n"
     ]
    }
   ],
   "source": [
    "# Write your code here.\n",
    "\n",
    "cv_results = cross_validate(\n",
    "    model, \n",
    "    data,\n",
    "    target,\n",
    "    cv=10,\n",
    "    scoring='neg_mean_absolute_error'\n",
    ")\n",
    "cv_results = pd.DataFrame(cv_results)\n",
    "cv_results['test_score'] = -cv_results['test_score']\n",
    "print(\n",
    "    f\"Mean error: {cv_results['test_score'].mean()}\\n\"\n",
    "    f\"Std = {cv_results['test_score'].std()}\"\n",
    ")"
   ]
  },
  {
   "cell_type": "markdown",
   "id": "a2a6465e",
   "metadata": {},
   "source": [
    "\n",
    "Now let's try to build an alternative pipeline with an adjustable number of\n",
    "intermediate features while keeping a similar predictive power. To do so, try\n",
    "using the `Nystroem` transformer instead of `PolynomialFeatures`. Set the\n",
    "kernel parameter to `\"poly\"` and `degree` to 2. Adjust the number of\n",
    "components to be as small as possible while keeping a good cross-validation\n",
    "performance.\n",
    "\n",
    "Hint: Use a `ValidationCurveDisplay` with `param_range = np.array([5, 10, 50,\n",
    "100])` to find the optimal `n_components`."
   ]
  },
  {
   "cell_type": "code",
   "execution_count": 38,
   "id": "229cb6ee",
   "metadata": {},
   "outputs": [
    {
     "data": {
      "text/plain": [
       "<sklearn.model_selection._plot.ValidationCurveDisplay at 0x7f898f6c3c10>"
      ]
     },
     "execution_count": 38,
     "metadata": {},
     "output_type": "execute_result"
    },
    {
     "data": {
      "image/png": "[encoded data removed]",
      "text/plain": [
       "<Figure size 640x480 with 1 Axes>"
      ]
     },
     "metadata": {},
     "output_type": "display_data"
    }
   ],
   "source": [
    "# Write your code here.\n",
    "import numpy as np\n",
    "from sklearn.kernel_approximation import Nystroem\n",
    "from sklearn.model_selection import ValidationCurveDisplay, validation_curve\n",
    "\n",
    "\n",
    "\n",
    "\n",
    "nystroem_regression = make_pipeline(\n",
    "    Nystroem(kernel=\"poly\", degree=2, random_state=0),\n",
    "    LinearRegression(),\n",
    ")\n",
    "nystroem_regression\n",
    "\n",
    "param_name='nystroem__n_components'\n",
    "param_range = np.array([5, 10, 50, 100])\n",
    "train_scores, test_scores = validation_curve(\n",
    "    nystroem_regression, data, target, param_name=param_name, param_range=param_range,\n",
    "    scoring='neg_mean_absolute_error'\n",
    ")\n",
    "display = ValidationCurveDisplay(\n",
    "    param_name=param_name, param_range=param_range,\n",
    "    train_scores=train_scores, test_scores=test_scores, score_name=\"Score\"\n",
    ")\n",
    "display.plot()"
   ]
  },
  {
   "cell_type": "markdown",
   "id": "a8f97089",
   "metadata": {},
   "source": [
    "How do the mean and std of the MAE for the Nystroem pipeline with optimal\n",
    "`n_components` compare to the other previous models?"
   ]
  },
  {
   "cell_type": "code",
   "execution_count": 37,
   "id": "060daa11",
   "metadata": {},
   "outputs": [
    {
     "name": "stdout",
     "output_type": "stream",
     "text": [
      "Mean error: 299.0870846025061\n",
      "Std = 47.30154272350819\n"
     ]
    }
   ],
   "source": [
    "# Write your code here.\n",
    "nystroem_regression = make_pipeline(\n",
    "    Nystroem(kernel=\"poly\", degree=2, n_components=10, random_state=0),\n",
    "    LinearRegression(),\n",
    ")\n",
    "\n",
    "\n",
    "cv_results = cross_validate(\n",
    "    nystroem_regression, \n",
    "    data,\n",
    "    target,\n",
    "    cv=10,\n",
    "    scoring='neg_mean_absolute_error'\n",
    ")\n",
    "cv_results = pd.DataFrame(cv_results)\n",
    "cv_results['test_score'] = -cv_results['test_score']\n",
    "print(\n",
    "    f\"Mean error: {cv_results['test_score'].mean()}\\n\"\n",
    "    f\"Std = {cv_results['test_score'].std()}\"\n",
    ")"
   ]
  },
  {
   "cell_type": "code",
   "execution_count": null,
   "id": "8a3de088",
   "metadata": {},
   "outputs": [],
   "source": []
  }
 ],
 "metadata": {
  "jupytext": {
   "main_language": "python"
  },
  "kernelspec": {
   "display_name": "Python 3 (ipykernel)",
   "language": "python",
   "name": "python3"
  },
  "language_info": {
   "codemirror_mode": {
    "name": "ipython",
    "version": 3
   },
   "file_extension": ".py",
   "mimetype": "text/x-python",
   "name": "python",
   "nbconvert_exporter": "python",
   "pygments_lexer": "ipython3",
   "version": "3.11.4"
  },
  "nbreset": "https://raw.githubusercontent.com/INRIA/scikit-learn-mooc/main/notebooks/linear_models_ex_02.ipynb"
 },
 "nbformat": 4,
 "nbformat_minor": 5
}
