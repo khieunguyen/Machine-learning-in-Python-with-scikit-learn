{
 "cells": [
  {
   "cell_type": "markdown",
   "id": "ad3e8038",
   "metadata": {},
   "source": [
    "# 📝 Exercise M3.01\n",
    "\n",
    "The goal is to write an exhaustive search to find the best parameters\n",
    "combination maximizing the model generalization performance.\n",
    "\n",
    "Here we use a small subset of the Adult Census dataset to make the code faster\n",
    "to execute. Once your code works on the small subset, try to change\n",
    "`train_size` to a larger value (e.g. 0.8 for 80% instead of 20%)."
   ]
  },
  {
   "cell_type": "code",
   "execution_count": 1,
   "id": "5fc4280d",
   "metadata": {},
   "outputs": [],
   "source": [
    "import pandas as pd\n",
    "\n",
    "from sklearn.model_selection import train_test_split\n",
    "\n",
    "adult_census = pd.read_csv(\"../datasets/adult-census.csv\")\n",
    "\n",
    "target_name = \"class\"\n",
    "target = adult_census[target_name]\n",
    "data = adult_census.drop(columns=[target_name, \"education-num\"])\n",
    "\n",
    "data_train, data_test, target_train, target_test = train_test_split(\n",
    "    data, target, train_size=0.2, random_state=42\n",
    ")"
   ]
  },
  {
   "cell_type": "code",
   "execution_count": 2,
   "id": "f89ad3c7",
   "metadata": {},
   "outputs": [],
   "source": [
    "from sklearn.compose import ColumnTransformer\n",
    "from sklearn.compose import make_column_selector as selector\n",
    "from sklearn.preprocessing import OrdinalEncoder\n",
    "\n",
    "categorical_preprocessor = OrdinalEncoder(\n",
    "    handle_unknown=\"use_encoded_value\", unknown_value=-1\n",
    ")\n",
    "preprocessor = ColumnTransformer(\n",
    "    [\n",
    "        (\n",
    "            \"cat_preprocessor\",\n",
    "            categorical_preprocessor,\n",
    "            selector(dtype_include=object),\n",
    "        )\n",
    "    ],\n",
    "    remainder=\"passthrough\",\n",
    ")\n",
    "\n",
    "from sklearn.ensemble import HistGradientBoostingClassifier\n",
    "from sklearn.pipeline import Pipeline\n",
    "\n",
    "model = Pipeline(\n",
    "    [\n",
    "        (\"preprocessor\", preprocessor),\n",
    "        (\"classifier\", HistGradientBoostingClassifier(random_state=42)),\n",
    "    ]\n",
    ")"
   ]
  },
  {
   "cell_type": "markdown",
   "id": "26fe03e1",
   "metadata": {},
   "source": [
    "Use the previously defined model (called `model`) and using two nested `for`\n",
    "loops, make a search of the best combinations of the `learning_rate` and\n",
    "`max_leaf_nodes` parameters. In this regard, you have to train and test the\n",
    "model by setting the parameters. The evaluation of the model should be\n",
    "performed using `cross_val_score` on the training set. Use the following\n",
    "parameters search:\n",
    "- `learning_rate` for the values 0.01, 0.1, 1 and 10. This parameter controls\n",
    "  the ability of a new tree to correct the error of the previous sequence of\n",
    "  trees\n",
    "- `max_leaf_nodes` for the values 3, 10, 30. This parameter controls the depth\n",
    "  of each tree."
   ]
  },
  {
   "cell_type": "code",
   "execution_count": 4,
   "id": "472801c7",
   "metadata": {},
   "outputs": [
    {
     "data": {
      "text/plain": [
       "dict_keys(['memory', 'steps', 'verbose', 'preprocessor', 'classifier', 'preprocessor__n_jobs', 'preprocessor__remainder', 'preprocessor__sparse_threshold', 'preprocessor__transformer_weights', 'preprocessor__transformers', 'preprocessor__verbose', 'preprocessor__verbose_feature_names_out', 'preprocessor__cat_preprocessor', 'preprocessor__cat_preprocessor__categories', 'preprocessor__cat_preprocessor__dtype', 'preprocessor__cat_preprocessor__encoded_missing_value', 'preprocessor__cat_preprocessor__handle_unknown', 'preprocessor__cat_preprocessor__max_categories', 'preprocessor__cat_preprocessor__min_frequency', 'preprocessor__cat_preprocessor__unknown_value', 'classifier__categorical_features', 'classifier__class_weight', 'classifier__early_stopping', 'classifier__interaction_cst', 'classifier__l2_regularization', 'classifier__learning_rate', 'classifier__loss', 'classifier__max_bins', 'classifier__max_depth', 'classifier__max_iter', 'classifier__max_leaf_nodes', 'classifier__min_samples_leaf', 'classifier__monotonic_cst', 'classifier__n_iter_no_change', 'classifier__random_state', 'classifier__scoring', 'classifier__tol', 'classifier__validation_fraction', 'classifier__verbose', 'classifier__warm_start'])"
      ]
     },
     "execution_count": 4,
     "metadata": {},
     "output_type": "execute_result"
    }
   ],
   "source": [
    "model.get_params().keys()"
   ]
  },
  {
   "cell_type": "code",
   "execution_count": 14,
   "id": "b73b06aa",
   "metadata": {},
   "outputs": [
    {
     "name": "stdout",
     "output_type": "stream",
     "text": [
      "HyperParameters:\n",
      "learning_rate = 0.01\n",
      "max_leaf_nodes = 3\n",
      "\n",
      "Score: 0.7892103419635216:.03f +- 0.00478067693913335:.03f\n",
      "HyperParameters:\n",
      "learning_rate = 0.01\n",
      "max_leaf_nodes = 10\n",
      "\n",
      "Score: 0.8132675512190211:.03f +- 0.004429520795858263:.03f\n",
      "HyperParameters:\n",
      "learning_rate = 0.01\n",
      "max_leaf_nodes = 30\n",
      "\n",
      "Score: 0.8418313841300737:.03f +- 0.00605394275689578:.03f\n",
      "HyperParameters:\n",
      "learning_rate = 0.1\n",
      "max_leaf_nodes = 3\n",
      "\n",
      "Score: 0.8490997869020254:.03f +- 0.009405972169472813:.03f\n",
      "HyperParameters:\n",
      "learning_rate = 0.1\n",
      "max_leaf_nodes = 10\n",
      "\n",
      "Score: 0.8609740213433563:.03f +- 0.007829696250144406:.03f\n",
      "HyperParameters:\n",
      "learning_rate = 0.1\n",
      "max_leaf_nodes = 30\n",
      "\n",
      "Score: 0.8588240599359029:.03f +- 0.007314769536569154:.03f\n",
      "HyperParameters:\n",
      "learning_rate = 1\n",
      "max_leaf_nodes = 3\n",
      "\n",
      "Score: 0.8556509765592228:.03f +- 0.010216587672922805:.03f\n",
      "HyperParameters:\n",
      "learning_rate = 1\n",
      "max_leaf_nodes = 10\n",
      "\n",
      "Score: 0.8505311718710674:.03f +- 0.011258936432316798:.03f\n",
      "HyperParameters:\n",
      "learning_rate = 1\n",
      "max_leaf_nodes = 30\n",
      "\n",
      "Score: 0.8426492734533617:.03f +- 0.010660422259087626:.03f\n",
      "HyperParameters:\n",
      "learning_rate = 10\n",
      "max_leaf_nodes = 3\n",
      "\n",
      "Score: 0.28828831568703117:.03f +- 0.01446254211223933:.03f\n",
      "HyperParameters:\n",
      "learning_rate = 10\n",
      "max_leaf_nodes = 10\n",
      "\n",
      "Score: 0.2830669958219373:.03f +- 0.014761257976078154:.03f\n",
      "HyperParameters:\n",
      "learning_rate = 10\n",
      "max_leaf_nodes = 30\n",
      "\n",
      "Score: 0.4076266422806517:.03f +- 0.15684390099747328:.03f\n"
     ]
    }
   ],
   "source": [
    "# Write your code here.\n",
    "from sklearn.model_selection import cross_val_score\n",
    "\n",
    "for learning_rate in [0.01, 0.1, 1, 10]:\n",
    "    for max_leaf_nodes in [3, 10, 30]:\n",
    "        model.set_params(\n",
    "            classifier__learning_rate=learning_rate,\n",
    "            classifier__max_leaf_nodes=max_leaf_nodes\n",
    "        )\n",
    "        \n",
    "        score = cross_val_score(model, data_train, target_train, cv=10)\n",
    "        print(f\"HyperParameters:\\n\"\n",
    "              f\"learning_rate = {learning_rate}\\n\"\n",
    "              f\"max_leaf_nodes = {max_leaf_nodes}\\n\"\n",
    "              f\"\\n\"\n",
    "              f\"Score: {score.mean():.03f} +- {score.std():.03f}\")"
   ]
  },
  {
   "cell_type": "markdown",
   "id": "099ef22f",
   "metadata": {},
   "source": [
    "Now use the test set to score the model using the best parameters that we\n",
    "found using cross-validation. You will have to refit the model over the full\n",
    "training set."
   ]
  },
  {
   "cell_type": "code",
   "execution_count": 15,
   "id": "30a70ffc",
   "metadata": {},
   "outputs": [
    {
     "name": "stdout",
     "output_type": "stream",
     "text": [
      "HyperParameters:\n",
      "learning_rate = 0.1\n",
      "max_leaf_nodes = 30\n",
      "\n",
      "Score: 0.874 +- 0.004\n"
     ]
    }
   ],
   "source": [
    "# Write your code here.\n",
    "model.set_params(\n",
    "    classifier__learning_rate = 0.1, \n",
    "    classifier__max_leaf_nodes = 30\n",
    ")\n",
    "\n",
    "model.fit(data, target)\n",
    "\n",
    "score = cross_val_score(model, data, target, cv=10)\n",
    "\n",
    "print(f\"HyperParameters:\\n\"\n",
    "              f\"learning_rate = {model.get_params()['classifier__learning_rate']}\\n\"\n",
    "              f\"max_leaf_nodes = {model.get_params()['classifier__max_leaf_nodes']}\\n\"\n",
    "              f\"\\n\"\n",
    "              f\"Score: {score.mean():.03f} +- {score.std():.03f}\")"
   ]
  },
  {
   "cell_type": "code",
   "execution_count": null,
   "id": "e3e36c30",
   "metadata": {},
   "outputs": [],
   "source": []
  }
 ],
 "metadata": {
  "jupytext": {
   "main_language": "python"
  },
  "kernelspec": {
   "display_name": "Python 3 (ipykernel)",
   "language": "python",
   "name": "python3"
  },
  "language_info": {
   "codemirror_mode": {
    "name": "ipython",
    "version": 3
   },
   "file_extension": ".py",
   "mimetype": "text/x-python",
   "name": "python",
   "nbconvert_exporter": "python",
   "pygments_lexer": "ipython3",
   "version": "3.11.4"
  },
  "nbreset": "https://raw.githubusercontent.com/INRIA/scikit-learn-mooc/main/notebooks/parameter_tuning_ex_02.ipynb"
 },
 "nbformat": 4,
 "nbformat_minor": 5
}
